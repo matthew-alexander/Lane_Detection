{
 "cells": [
  {
   "cell_type": "markdown",
   "metadata": {},
   "source": [
    "# Finding Lane Lines Using Advanced Methods "
   ]
  },
  {
   "cell_type": "code",
   "execution_count": 1,
   "metadata": {
    "collapsed": true
   },
   "outputs": [],
   "source": [
    "import numpy as np\n",
    "import glob\n",
    "import csv\n",
    "from scipy.misc import imread\n",
    "import matplotlib.pyplot as plt\n",
    "%matplotlib inline\n",
    "from sklearn.model_selection import train_test_split\n",
    "import cv2\n",
    "import time\n",
    "from datetime import timedelta"
   ]
  },
  {
   "cell_type": "code",
   "execution_count": null,
   "metadata": {
    "collapsed": true
   },
   "outputs": [],
   "source": [
    "center_images = []\n",
    "\n",
    "#location of training data from simulator\n",
    "\n",
    "log_file = \"/home/deep_cat/IMG/driving_log.csv\n",
    "\n",
    "for path in center_image_paths: \n",
    "    image = imread(path)\n",
    "    image = resize_image(image)\n",
    "    center_images.append(image)\n",
    "    \n",
    "    def normalize_image(image):\n",
    "    Xmin = np.min(image)\n",
    "    Xmax= np.max(image)\n",
    "    a = -0.5\n",
    "    b = 0.5\n",
    "    image = a +((image - Xmin) * (b-a)) / (Xmax-Xmin)\n",
    "\n",
    "    return image\n",
    "\n",
    "def resize_image(img):\n",
    "    resized_image = cv2.resize(img, (64, 32))  # the resizing function works opposite to the row,colum. it is (x,y)\n",
    "    return resized_image\n",
    "\n",
    "\n",
    "# taking in the center images\n",
    "\n",
    "with open(log_file, newline='') as csvfile:\n",
    "    log = csv.reader(csvfile)\n",
    "    center_image_paths = []\n",
    "    center_steering_angles = []\n",
    "    for row in log:\n",
    "        center_image_paths.append(row[0])\n",
    "        center_steering_angles.append(float(row[3]))"
   ]
  }
 ],
 "metadata": {
  "anaconda-cloud": {},
  "kernelspec": {
   "display_name": "Python [conda root]",
   "language": "python",
   "name": "conda-root-py"
  },
  "language_info": {
   "codemirror_mode": {
    "name": "ipython",
    "version": 3
   },
   "file_extension": ".py",
   "mimetype": "text/x-python",
   "name": "python",
   "nbconvert_exporter": "python",
   "pygments_lexer": "ipython3",
   "version": "3.5.2"
  }
 },
 "nbformat": 4,
 "nbformat_minor": 1
}
