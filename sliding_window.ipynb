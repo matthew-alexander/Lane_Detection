{
 "cells": [
  {
   "cell_type": "code",
   "execution_count": null,
   "metadata": {
    "collapsed": true
   },
   "outputs": [],
   "source": []
  },
  {
   "cell_type": "code",
   "execution_count": null,
   "metadata": {
    "collapsed": true
   },
   "outputs": [],
   "source": [
    "\n",
    "\n",
    "# sliding window algorithm \n",
    "\n",
    "# batch = 90 # 720 / 90  = 8 sliding window \n",
    "# warped.shape[1]/2                                   \n",
    "# for i in range(int(warped.shape[0]/batch)):\n",
    "#     start = warped.shape[0] - (batch*(i+1))\n",
    "#     end = start + batch\n",
    "\n",
    "#     histogram = np.sum(warped[start:end,:], axis=0)\n",
    "\n",
    "#     left_start = np.argmax(histogram[0:warped.shape[1]/2])\n",
    "#     right_start = np.argmax(histogram[warped.shape[1]/2:warped.shape[1]])\n",
    "#     print('batch: ', i, start, \" \", end, left_start, right_start)\n",
    "#     for j in range(start,end+1):\n",
    "#         print(\"pixel row\")\n",
    "#"
   ]
  }
 ],
 "metadata": {
  "anaconda-cloud": {},
  "kernelspec": {
   "display_name": "Python [conda root]",
   "language": "python",
   "name": "conda-root-py"
  },
  "language_info": {
   "codemirror_mode": {
    "name": "ipython",
    "version": 3
   },
   "file_extension": ".py",
   "mimetype": "text/x-python",
   "name": "python",
   "nbconvert_exporter": "python",
   "pygments_lexer": "ipython3",
   "version": "3.5.2"
  }
 },
 "nbformat": 4,
 "nbformat_minor": 1
}
